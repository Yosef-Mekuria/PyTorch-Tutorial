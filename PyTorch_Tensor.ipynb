{
  "nbformat": 4,
  "nbformat_minor": 0,
  "metadata": {
    "colab": {
      "provenance": [],
      "authorship_tag": "ABX9TyNZAEMBY2jNmFz/7rkabLB+",
      "include_colab_link": true
    },
    "kernelspec": {
      "name": "python3",
      "display_name": "Python 3"
    },
    "language_info": {
      "name": "python"
    }
  },
  "cells": [
    {
      "cell_type": "markdown",
      "metadata": {
        "id": "view-in-github",
        "colab_type": "text"
      },
      "source": [
        "<a href=\"https://colab.research.google.com/github/Yosef-Mekuria/PyTorch-Tutorial/blob/main/PyTorch_Tensor.ipynb\" target=\"_parent\"><img src=\"https://colab.research.google.com/assets/colab-badge.svg\" alt=\"Open In Colab\"/></a>"
      ]
    },
    {
      "cell_type": "markdown",
      "source": [
        "**TENSOR:**\n",
        "- is multidimensional or one dimensional matrix containing elements of one/same data type\n",
        "- is primary data structure in pytorch\n",
        "- is suitable for Deep Learning"
      ],
      "metadata": {
        "id": "5BuLVu_3zHF0"
      }
    },
    {
      "cell_type": "code",
      "source": [
        "import torch"
      ],
      "metadata": {
        "id": "UE9Kf6N4sqhD"
      },
      "execution_count": 8,
      "outputs": []
    },
    {
      "cell_type": "code",
      "source": [
        "#Here we create a simple tensor by passing python list to tensor method\n",
        "new_tensor = torch.tensor([1, 2, 3, 4 , 5])\n",
        "new_tensor"
      ],
      "metadata": {
        "colab": {
          "base_uri": "https://localhost:8080/"
        },
        "id": "SyZ1CVZLzudg",
        "outputId": "4beb588d-44e0-44a7-a127-fb0ebe0b2235"
      },
      "execution_count": 14,
      "outputs": [
        {
          "output_type": "execute_result",
          "data": {
            "text/plain": [
              "tensor([1, 2, 3, 4, 5])"
            ]
          },
          "metadata": {},
          "execution_count": 14
        }
      ]
    },
    {
      "cell_type": "code",
      "source": [
        "my_list = [6, 7, 8]\n",
        "new_tensor2 = torch.tensor(my_list)\n",
        "new_tensor2"
      ],
      "metadata": {
        "colab": {
          "base_uri": "https://localhost:8080/"
        },
        "id": "P1UremTu0mvg",
        "outputId": "80395425-0042-49a8-ba31-be4e6091663e"
      },
      "execution_count": 15,
      "outputs": [
        {
          "output_type": "execute_result",
          "data": {
            "text/plain": [
              "tensor([6, 7, 8])"
            ]
          },
          "metadata": {},
          "execution_count": 15
        }
      ]
    },
    {
      "cell_type": "code",
      "source": [
        "#Checking the data type of the new_tensor\n",
        "new_tensor.dtype"
      ],
      "metadata": {
        "colab": {
          "base_uri": "https://localhost:8080/"
        },
        "id": "UdHSaGgY0Dm-",
        "outputId": "032b4a49-d923-4de6-9fc0-ce87c31f092c"
      },
      "execution_count": 17,
      "outputs": [
        {
          "output_type": "execute_result",
          "data": {
            "text/plain": [
              "torch.int64"
            ]
          },
          "metadata": {},
          "execution_count": 17
        }
      ]
    },
    {
      "cell_type": "code",
      "source": [
        "#Here we create a simple tensor by passing numpy array to from_numpy method\n",
        "import numpy as np\n",
        "np_arr= np.array([1, 2, 3, 4])\n",
        "tensor_from_np = torch.from_numpy(np_arr)\n",
        "tensor_from_np"
      ],
      "metadata": {
        "colab": {
          "base_uri": "https://localhost:8080/"
        },
        "id": "rumkXgNk0Ph5",
        "outputId": "f29e8f5f-055f-46db-8080-6d9045301b18"
      },
      "execution_count": 18,
      "outputs": [
        {
          "output_type": "execute_result",
          "data": {
            "text/plain": [
              "tensor([1, 2, 3, 4])"
            ]
          },
          "metadata": {},
          "execution_count": 18
        }
      ]
    },
    {
      "cell_type": "code",
      "source": [
        "tensor_from_np.dtype"
      ],
      "metadata": {
        "colab": {
          "base_uri": "https://localhost:8080/"
        },
        "id": "7r5CS9YP2Ux5",
        "outputId": "ed7aee28-324a-4218-d9d4-f225851a4c06"
      },
      "execution_count": 19,
      "outputs": [
        {
          "output_type": "execute_result",
          "data": {
            "text/plain": [
              "torch.int64"
            ]
          },
          "metadata": {},
          "execution_count": 19
        }
      ]
    },
    {
      "cell_type": "code",
      "source": [
        "#Creating a tensor of Zero square matrix with shape of 3\n",
        "zero_matrix = torch.zeros(3, 3)\n",
        "zero_matrix"
      ],
      "metadata": {
        "colab": {
          "base_uri": "https://localhost:8080/"
        },
        "id": "hTYKi57-2rBx",
        "outputId": "15967cca-3b3c-4022-e736-1336af1381bf"
      },
      "execution_count": 23,
      "outputs": [
        {
          "output_type": "execute_result",
          "data": {
            "text/plain": [
              "tensor([[0., 0., 0.],\n",
              "        [0., 0., 0.],\n",
              "        [0., 0., 0.]])"
            ]
          },
          "metadata": {},
          "execution_count": 23
        }
      ]
    },
    {
      "cell_type": "code",
      "source": [
        "#Creating a tensor of square matrix with entries of one and shape of 2\n",
        "one_matrix = torch.ones(2, 2)\n",
        "one_matrix"
      ],
      "metadata": {
        "colab": {
          "base_uri": "https://localhost:8080/"
        },
        "id": "PGMgPQHS3O-J",
        "outputId": "f412fec1-1aa2-4ba2-e18d-5dc8f26a9130"
      },
      "execution_count": 24,
      "outputs": [
        {
          "output_type": "execute_result",
          "data": {
            "text/plain": [
              "tensor([[1., 1.],\n",
              "        [1., 1.]])"
            ]
          },
          "metadata": {},
          "execution_count": 24
        }
      ]
    },
    {
      "cell_type": "code",
      "source": [
        "second_one_matrix = torch.ones(2, 2)\n",
        "second_one_matrix"
      ],
      "metadata": {
        "colab": {
          "base_uri": "https://localhost:8080/"
        },
        "id": "aBV3jMPb3jrs",
        "outputId": "3e7f7a1b-3f5c-4eaf-8e55-ba2a16184a1a"
      },
      "execution_count": 25,
      "outputs": [
        {
          "output_type": "execute_result",
          "data": {
            "text/plain": [
              "tensor([[1., 1.],\n",
              "        [1., 1.]])"
            ]
          },
          "metadata": {},
          "execution_count": 25
        }
      ]
    },
    {
      "cell_type": "code",
      "source": [
        "#Creating a tensor with arange method, this method returns elements starting from 0 to n (the argument we passed) but not including n.\n",
        "new_tensor_range = torch.arange(10)\n",
        "new_tensor_range"
      ],
      "metadata": {
        "colab": {
          "base_uri": "https://localhost:8080/"
        },
        "id": "-YEncTNB579A",
        "outputId": "a403c313-b019-46ef-cbdf-cc5fd619193c"
      },
      "execution_count": 30,
      "outputs": [
        {
          "output_type": "execute_result",
          "data": {
            "text/plain": [
              "tensor([0, 1, 2, 3, 4, 5, 6, 7, 8, 9])"
            ]
          },
          "metadata": {},
          "execution_count": 30
        }
      ]
    },
    {
      "cell_type": "markdown",
      "source": [
        "**TENSOR OPERATIONS**\n",
        "\n",
        "In the code cells below we see how we perform different operations on the tensor data.\n",
        "- Tensor addition\n",
        "- Tensor subtraction\n",
        "- Element wise tensor multiplication\n",
        "- Reshaping tensor"
      ],
      "metadata": {
        "id": "0bd0s7C66Jc5"
      }
    },
    {
      "cell_type": "code",
      "source": [
        "#Performing tensor operations\n",
        "#this is element-wise multiplication\n",
        "\n",
        "print(one_matrix + second_one_matrix)\n",
        "print(one_matrix - second_one_matrix)\n",
        "print(one_matrix * second_one_matrix)\n",
        "print(one_matrix / second_one_matrix)\n",
        "print(one_matrix % second_one_matrix)"
      ],
      "metadata": {
        "colab": {
          "base_uri": "https://localhost:8080/"
        },
        "id": "noJqzqN83piV",
        "outputId": "b5f74987-c77c-420d-b3d6-e1797871c1e8"
      },
      "execution_count": 43,
      "outputs": [
        {
          "output_type": "stream",
          "name": "stdout",
          "text": [
            "tensor([[2., 2.],\n",
            "        [2., 2.]])\n",
            "tensor([[0., 0.],\n",
            "        [0., 0.]])\n",
            "tensor([[1., 1.],\n",
            "        [1., 1.]])\n",
            "tensor([[1., 1.],\n",
            "        [1., 1.]])\n",
            "tensor([[0., 0.],\n",
            "        [0., 0.]])\n"
          ]
        }
      ]
    },
    {
      "cell_type": "code",
      "source": [
        "#The arguments we pass to reshape method should be able to fit the data, other wise we encounter an error\n",
        "reshaped_tensor = new_tensor_range.reshape(2, 5)\n",
        "reshaped_tensor"
      ],
      "metadata": {
        "colab": {
          "base_uri": "https://localhost:8080/"
        },
        "id": "6o5f7qsO7F-i",
        "outputId": "06a4096d-2dff-432b-940a-dba15fec1871"
      },
      "execution_count": 31,
      "outputs": [
        {
          "output_type": "execute_result",
          "data": {
            "text/plain": [
              "tensor([[0, 1, 2, 3, 4],\n",
              "        [5, 6, 7, 8, 9]])"
            ]
          },
          "metadata": {},
          "execution_count": 31
        }
      ]
    },
    {
      "cell_type": "code",
      "source": [
        "#this is an error because we have 10 elements but we set the reshape to contain 8 elements\n",
        "reshaped_tensor = new_tensor_range.reshape(2, 4)"
      ],
      "metadata": {
        "id": "XCiBUIE58HHg"
      },
      "execution_count": null,
      "outputs": []
    },
    {
      "cell_type": "code",
      "source": [
        "reshaped_tensor_with_view = new_tensor_range.view(5, 2)\n",
        "reshaped_tensor_with_view"
      ],
      "metadata": {
        "colab": {
          "base_uri": "https://localhost:8080/"
        },
        "id": "GAtmE6km8J5l",
        "outputId": "eb0b027f-1395-4970-e5a6-c8bcf9e827ec"
      },
      "execution_count": 34,
      "outputs": [
        {
          "output_type": "execute_result",
          "data": {
            "text/plain": [
              "tensor([[0, 1],\n",
              "        [2, 3],\n",
              "        [4, 5],\n",
              "        [6, 7],\n",
              "        [8, 9]])"
            ]
          },
          "metadata": {},
          "execution_count": 34
        }
      ]
    },
    {
      "cell_type": "code",
      "source": [
        "#To reshape we can also specify the row/column value only and let the other value be identified automatically by passing -1\n",
        "reshaped_tensor = new_tensor_range.reshape(2, -1)\n",
        "reshaped_tensor"
      ],
      "metadata": {
        "colab": {
          "base_uri": "https://localhost:8080/"
        },
        "id": "RLeECeDE8eDx",
        "outputId": "8d6cbb5f-eb41-4b9a-d4d8-12d3ea51950b"
      },
      "execution_count": 35,
      "outputs": [
        {
          "output_type": "execute_result",
          "data": {
            "text/plain": [
              "tensor([[0, 1, 2, 3, 4],\n",
              "        [5, 6, 7, 8, 9]])"
            ]
          },
          "metadata": {},
          "execution_count": 35
        }
      ]
    },
    {
      "cell_type": "markdown",
      "source": [
        "**Slicing**\n",
        "\n",
        "- Slicing using index, remember index starts from 0"
      ],
      "metadata": {
        "id": "WUkUK1cP9qDv"
      }
    },
    {
      "cell_type": "code",
      "source": [
        "new_tensor3 = torch.arange(100)\n",
        "new_tensor3"
      ],
      "metadata": {
        "colab": {
          "base_uri": "https://localhost:8080/"
        },
        "id": "2o9d2qd29pBY",
        "outputId": "e31435c0-4117-4802-d6ed-54296258bc81"
      },
      "execution_count": 36,
      "outputs": [
        {
          "output_type": "execute_result",
          "data": {
            "text/plain": [
              "tensor([ 0,  1,  2,  3,  4,  5,  6,  7,  8,  9, 10, 11, 12, 13, 14, 15, 16, 17,\n",
              "        18, 19, 20, 21, 22, 23, 24, 25, 26, 27, 28, 29, 30, 31, 32, 33, 34, 35,\n",
              "        36, 37, 38, 39, 40, 41, 42, 43, 44, 45, 46, 47, 48, 49, 50, 51, 52, 53,\n",
              "        54, 55, 56, 57, 58, 59, 60, 61, 62, 63, 64, 65, 66, 67, 68, 69, 70, 71,\n",
              "        72, 73, 74, 75, 76, 77, 78, 79, 80, 81, 82, 83, 84, 85, 86, 87, 88, 89,\n",
              "        90, 91, 92, 93, 94, 95, 96, 97, 98, 99])"
            ]
          },
          "metadata": {},
          "execution_count": 36
        }
      ]
    },
    {
      "cell_type": "code",
      "source": [
        "new_tensor3 = new_tensor3.reshape(10, 10)\n",
        "new_tensor3"
      ],
      "metadata": {
        "colab": {
          "base_uri": "https://localhost:8080/"
        },
        "id": "B6qGFYkB-Mze",
        "outputId": "4e7ba426-be69-4f2c-e0c6-5d599a973bce"
      },
      "execution_count": 37,
      "outputs": [
        {
          "output_type": "execute_result",
          "data": {
            "text/plain": [
              "tensor([[ 0,  1,  2,  3,  4,  5,  6,  7,  8,  9],\n",
              "        [10, 11, 12, 13, 14, 15, 16, 17, 18, 19],\n",
              "        [20, 21, 22, 23, 24, 25, 26, 27, 28, 29],\n",
              "        [30, 31, 32, 33, 34, 35, 36, 37, 38, 39],\n",
              "        [40, 41, 42, 43, 44, 45, 46, 47, 48, 49],\n",
              "        [50, 51, 52, 53, 54, 55, 56, 57, 58, 59],\n",
              "        [60, 61, 62, 63, 64, 65, 66, 67, 68, 69],\n",
              "        [70, 71, 72, 73, 74, 75, 76, 77, 78, 79],\n",
              "        [80, 81, 82, 83, 84, 85, 86, 87, 88, 89],\n",
              "        [90, 91, 92, 93, 94, 95, 96, 97, 98, 99]])"
            ]
          },
          "metadata": {},
          "execution_count": 37
        }
      ]
    },
    {
      "cell_type": "code",
      "source": [
        "#Slicing, grabing the 0th, 1st rows excluding the rest\n",
        "print(new_tensor3[0:2])"
      ],
      "metadata": {
        "colab": {
          "base_uri": "https://localhost:8080/"
        },
        "id": "ruBVtEOl-WMw",
        "outputId": "5da54d61-7588-4bf1-9a29-8f5711d59bfe"
      },
      "execution_count": 38,
      "outputs": [
        {
          "output_type": "stream",
          "name": "stdout",
          "text": [
            "tensor([[ 0,  1,  2,  3,  4,  5,  6,  7,  8,  9],\n",
            "        [10, 11, 12, 13, 14, 15, 16, 17, 18, 19]])\n"
          ]
        }
      ]
    },
    {
      "cell_type": "code",
      "source": [
        "#Slicing, grabing the 0th, 1st rows and 0th, 1st columns excluding the rest\n",
        "print(new_tensor3[0:2,0:2])"
      ],
      "metadata": {
        "colab": {
          "base_uri": "https://localhost:8080/"
        },
        "id": "weCV-yTP-nfe",
        "outputId": "96815051-886d-4def-bc2c-3565725a7282"
      },
      "execution_count": 40,
      "outputs": [
        {
          "output_type": "stream",
          "name": "stdout",
          "text": [
            "tensor([[ 0,  1],\n",
            "        [10, 11]])\n"
          ]
        }
      ]
    },
    {
      "cell_type": "code",
      "source": [
        "#Slicing, grabing all rows starting from the 0th row and 0th, 1st columns excluding the rest\n",
        "print(new_tensor3[0:,0:2])"
      ],
      "metadata": {
        "colab": {
          "base_uri": "https://localhost:8080/"
        },
        "id": "kAnJVAjO-4P6",
        "outputId": "be3c76f0-cc14-46d5-c41e-7da7b13ddc62"
      },
      "execution_count": 41,
      "outputs": [
        {
          "output_type": "stream",
          "name": "stdout",
          "text": [
            "tensor([[ 0,  1],\n",
            "        [10, 11],\n",
            "        [20, 21],\n",
            "        [30, 31],\n",
            "        [40, 41],\n",
            "        [50, 51],\n",
            "        [60, 61],\n",
            "        [70, 71],\n",
            "        [80, 81],\n",
            "        [90, 91]])\n"
          ]
        }
      ]
    },
    {
      "cell_type": "markdown",
      "source": [
        "... and more."
      ],
      "metadata": {
        "id": "FIk-Lsfe_Ijh"
      }
    },
    {
      "cell_type": "code",
      "source": [],
      "metadata": {
        "id": "aJ-NZVCP_Gu3"
      },
      "execution_count": null,
      "outputs": []
    }
  ]
}